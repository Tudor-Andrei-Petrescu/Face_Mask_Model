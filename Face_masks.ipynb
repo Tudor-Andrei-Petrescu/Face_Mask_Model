{
 "cells": [
  {
   "cell_type": "code",
   "execution_count": 1,
   "id": "d0060bbe",
   "metadata": {},
   "outputs": [],
   "source": [
    "import pathlib\n",
    "from __future__ import absolute_import, division, print_function, unicode_literals\n",
    "\n",
    "import numpy as np\n",
    "import pandas as pd\n",
    "import matplotlib.pyplot as plt\n",
    "from IPython.display import clear_output\n",
    "from six.moves import urllib\n",
    "\n",
    "import tensorflow.compat.v2.feature_column as fc\n",
    "from tensorflow.keras import datasets, layers, models\n",
    "import tensorflow as tf\n",
    "\n"
   ]
  },
  {
   "cell_type": "code",
   "execution_count": 2,
   "id": "84ecdc6d",
   "metadata": {},
   "outputs": [],
   "source": [
    "#defining some parameters\n",
    "batch_size = 32\n",
    "img_height = 32\n",
    "img_width = 32"
   ]
  },
  {
   "cell_type": "code",
   "execution_count": 3,
   "id": "5110bf30",
   "metadata": {},
   "outputs": [
    {
     "name": "stdout",
     "output_type": "stream",
     "text": [
      "Found 20000 files belonging to 2 classes.\n",
      "Using 10000 files for training.\n"
     ]
    }
   ],
   "source": [
    "#gathering the data and separating into training and validation datasets\n",
    "data_dir = 'data/images/archive/'\n",
    "train_ds = tf.keras.utils.image_dataset_from_directory(\n",
    "  data_dir,\n",
    "  validation_split=0.5,\n",
    "  subset=\"training\",\n",
    "  seed=123,\n",
    "  image_size=(img_height, img_width),\n",
    "  batch_size=batch_size)\n",
    "\n"
   ]
  },
  {
   "cell_type": "code",
   "execution_count": 4,
   "id": "a692b276",
   "metadata": {},
   "outputs": [
    {
     "name": "stdout",
     "output_type": "stream",
     "text": [
      "Found 20000 files belonging to 2 classes.\n",
      "Using 10000 files for validation.\n"
     ]
    }
   ],
   "source": [
    "val_ds = tf.keras.utils.image_dataset_from_directory(\n",
    "  data_dir,\n",
    "  validation_split=0.5,\n",
    "  subset=\"validation\",\n",
    "  seed=123,\n",
    "  image_size=(img_height, img_width),\n",
    "  batch_size=batch_size)\n"
   ]
  },
  {
   "cell_type": "code",
   "execution_count": 5,
   "id": "28d14dc6",
   "metadata": {},
   "outputs": [
    {
     "name": "stdout",
     "output_type": "stream",
     "text": [
      "['with_mask', 'without_mask']\n"
     ]
    }
   ],
   "source": [
    "#The features\n",
    "class_names = train_ds.class_names\n",
    "print(class_names)\n"
   ]
  },
  {
   "cell_type": "code",
   "execution_count": null,
   "id": "e34e283f",
   "metadata": {},
   "outputs": [],
   "source": [
    "\n"
   ]
  },
  {
   "cell_type": "code",
   "execution_count": 6,
   "id": "9f64cdc4",
   "metadata": {},
   "outputs": [],
   "source": [
    "#Designing the CNN\n",
    "model = models.Sequential()\n",
    "model.add(layers.Conv2D(32, (3, 3), activation='relu', input_shape=(32, 32, 3)))\n",
    "model.add(layers.MaxPooling2D((2, 2)))\n",
    "model.add(layers.Conv2D(64, (3, 3), activation='relu'))\n",
    "model.add(layers.MaxPooling2D((2, 2)))\n",
    "model.add(layers.Conv2D(64, (3, 3), activation='relu'))\n",
    "model.add(layers.Flatten())\n",
    "model.add(layers.Dense(64, activation='relu'))\n",
    "model.add(layers.Dense(2,activation = 'softmax'))"
   ]
  },
  {
   "cell_type": "code",
   "execution_count": 7,
   "id": "a1000f2b",
   "metadata": {},
   "outputs": [],
   "source": [
    "#Compiling the model\n",
    "model.compile(\n",
    "  optimizer='adam',\n",
    "  loss=tf.losses.SparseCategoricalCrossentropy(from_logits=False),\n",
    "  metrics=['accuracy'])\n"
   ]
  },
  {
   "cell_type": "code",
   "execution_count": 8,
   "id": "b38158b7",
   "metadata": {},
   "outputs": [
    {
     "name": "stdout",
     "output_type": "stream",
     "text": [
      "313/313 [==============================] - 30s 94ms/step - loss: 0.4013 - accuracy: 0.9738 - val_loss: 9.8568e-04 - val_accuracy: 0.9998\n"
     ]
    },
    {
     "data": {
      "text/plain": [
       "<keras.callbacks.History at 0x7f71f024b910>"
      ]
     },
     "execution_count": 8,
     "metadata": {},
     "output_type": "execute_result"
    }
   ],
   "source": [
    "#Training the model\n",
    "model.fit(\n",
    "  train_ds,\n",
    "  validation_data=val_ds,\n",
    "  epochs=1,\n",
    "  shuffle=True\n",
    ")\n"
   ]
  },
  {
   "cell_type": "code",
   "execution_count": 46,
   "id": "f289f8b7",
   "metadata": {},
   "outputs": [],
   "source": [
    "import cv2 as cv"
   ]
  },
  {
   "cell_type": "code",
   "execution_count": 50,
   "id": "dec94509",
   "metadata": {},
   "outputs": [],
   "source": [
    "#Function which when given an image from the dataset \n",
    "#it outputs the image and the prediction for the image\n",
    "def predictions(img=\"with_mask/with-mask-default-mask-seed5777.png\"):\n",
    "    img_path = \"data/images/archive/\" + img\n",
    "    image1 = cv.imread(img_path)\n",
    "    image1 = cv.cvtColor(image1, cv.COLOR_BGR2RGB )\n",
    "    image1= cv.resize(image1, (img_height,img_width), interpolation = cv.INTER_AREA)\n",
    "    img = image.load_img(img_path, target_size=(img_height, img_width))\n",
    "    plt.imshow(image1)\n",
    "    plt.show()\n",
    "    img_array = image.img_to_array(img)\n",
    "    img_batch = np.expand_dims(img_array, axis=0)\n",
    "    tf.image.rgb_to_grayscale(img_batch)\n",
    "    prediction = model.predict(img_batch)\n",
    "    print(class_names[np.argmax(prediction)])"
   ]
  },
  {
   "cell_type": "code",
   "execution_count": 48,
   "id": "d49d3d83",
   "metadata": {},
   "outputs": [
    {
     "data": {
      "image/png": "[encoded data removed]",
      "text/plain": [
       "<Figure size 432x288 with 1 Axes>"
      ]
     },
     "metadata": {
      "needs_background": "light"
     },
     "output_type": "display_data"
    },
    {
     "name": "stdout",
     "output_type": "stream",
     "text": [
      "without_mask\n",
      "[[0.497264   0.50273603]]\n",
      "['with_mask', 'without_mask']\n"
     ]
    }
   ],
   "source": [
    "from tensorflow.keras.preprocessing import image\n",
    "image1 = cv.imread('data/images/maskON2')\n",
    "image1 = cv.cvtColor(image1, cv.COLOR_BGR2RGB )\n",
    "image1 = cv.resize(image1, (img_height,img_width), interpolation = cv.INTER_AREA)\n",
    "plt.imshow(image1)\n",
    "plt.show()\n",
    "img_array = image.img_to_array(image1)\n",
    "img_array = img_array/255.0\n",
    "img_batch = np.expand_dims(img_array, axis=0)\n",
    "prediction = model.predict(img_batch)\n",
    "print(class_names[np.argmax(prediction[0])])\n",
    "print(prediction)\n",
    "print(class_names)\n"
   ]
  },
  {
   "cell_type": "code",
   "execution_count": 56,
   "id": "4991ef71",
   "metadata": {},
   "outputs": [
    {
     "data": {
      "image/png": "[encoded data removed]",
      "text/plain": [
       "<Figure size 432x288 with 1 Axes>"
      ]
     },
     "metadata": {
      "needs_background": "light"
     },
     "output_type": "display_data"
    },
    {
     "name": "stdout",
     "output_type": "stream",
     "text": [
      "with_mask\n"
     ]
    }
   ],
   "source": [
    "predictions(\"with_mask/with-mask-default-mask-seed1234.png\")\n"
   ]
  },
  {
   "cell_type": "code",
   "execution_count": null,
   "id": "a5c7f548",
   "metadata": {},
   "outputs": [],
   "source": []
  },
  {
   "cell_type": "code",
   "execution_count": null,
   "id": "387a05dc",
   "metadata": {},
   "outputs": [],
   "source": []
  }
 ],
 "metadata": {
  "kernelspec": {
   "display_name": "Python 3",
   "language": "python",
   "name": "python3"
  },
  "language_info": {
   "codemirror_mode": {
    "name": "ipython",
    "version": 3
   },
   "file_extension": ".py",
   "mimetype": "text/x-python",
   "name": "python",
   "nbconvert_exporter": "python",
   "pygments_lexer": "ipython3",
   "version": "3.8.8"
  }
 },
 "nbformat": 4,
 "nbformat_minor": 5
}
